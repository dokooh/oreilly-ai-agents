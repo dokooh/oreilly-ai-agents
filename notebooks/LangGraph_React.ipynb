{
 "cells": [
  {
   "cell_type": "markdown",
   "metadata": {},
   "source": [
    "# Setting up a basic ReAct Agent in LangGraph"
   ]
  },
  {
   "cell_type": "code",
   "execution_count": 14,
   "metadata": {},
   "outputs": [],
   "source": [
    "import os\n",
    "\n",
    "os.environ[\"OPENAI_API_KEY\"] = 'sk-***'\n",
    "os.environ[\"SERPAPI_API_KEY\"] = 's***'  # https://serpapi.com for a free token!"
   ]
  },
  {
   "cell_type": "code",
   "execution_count": 3,
   "metadata": {
    "colab": {
     "base_uri": "https://localhost:8080/"
    },
    "id": "-47NGgZAvFz-",
    "outputId": "72f0e0c9-0fa5-45b2-fd88-f3c9f710afa5",
    "scrolled": true
   },
   "outputs": [],
   "source": [
    "from langchain_community.agent_toolkits.load_tools import load_tools\n",
    "tools = load_tools([\"serpapi\"])\n"
   ]
  },
  {
   "cell_type": "code",
   "execution_count": 4,
   "metadata": {},
   "outputs": [
    {
     "data": {
      "text/plain": [
       "'[\\'Sinan Ozdemir is currently the founder and CTO of LoopGenius and an advisor to several AI companies. Sinan is a former lecturer of Data Science at Johns Hopkins University and the author of multiple textbooks on data science and machine learning. ...\\', \\'Sinan Ozdemir type: Author.\\', \\'Sinan Ozdemir entity_type: people.\\', \\'Sinan Ozdemir kgmid: /g/11hcjs9cr6.\\', \\'Specialized in areas including time management as well as mathematics and computer science logistics.\\', \\'Helping companies leverage AI technology to solve complex problems. Founder, author, and consultant specializing in AI, LLMs, and data science.\\', \\'Data Scientist + Author + Entrepreneur. Check out my new book on LLMs on Amazon (Top 10 in AI/NLP) - sinanuozdemir.\\', \\'NLP + Gen AI Expert / LLM whisperer. AI Author. Founder @Aikylie (acquired). Contributor on @Forbes. Fellow @YCombinator. San Francisco, CA.\\', \"A beginner\\'s guide to essential math and coding skills for data fluency and machine learning by Sinan Ozdemir\", \\'Sinan Ozdemir is a mathematician, data scientist, NLP expert, lecturer, and accomplished author. He is currently applying my extensive knowledge and experience ...\\', \\'Sinan is a former lecturer of Data Science at Johns Hopkins University and the author of multiple textbooks on data science and machine learning. Additionally, ...\\', \"Sinan Ozdemir is the founder and CTO of Shiba and is currently managing the Web3 components and machine learning models that power the company\\'s social commerce ...\", \\'Sinan Ozdemir is a Data Scientist, Entrepreneur, Teacher, and Author. He is the founder of LoopGenius, a company that helps people get their first 100 ...\\']'"
      ]
     },
     "execution_count": 4,
     "metadata": {},
     "output_type": "execute_result"
    }
   ],
   "source": [
    "tools[0].run('Sinan Ozdemir')"
   ]
  },
  {
   "cell_type": "code",
   "execution_count": 16,
   "metadata": {
    "colab": {
     "base_uri": "https://localhost:8080/"
    },
    "id": "YxTG7Kk2xZhm",
    "outputId": "e08810b4-d44d-4fb6-d3e7-6dad5c406ad8",
    "scrolled": true
   },
   "outputs": [
    {
     "name": "stdout",
     "output_type": "stream",
     "text": [
      "September 24th, 2025\n"
     ]
    }
   ],
   "source": [
    "from langchain_openai import ChatOpenAI\n",
    "from langgraph.prebuilt import create_react_agent\n",
    "from datetime import datetime\n",
    "\n",
    "today = datetime.today().strftime(\"%B \") + str(datetime.today().day) + (\"th\" if 11<=datetime.today().day<=13 else {1:\"st\",2:\"nd\",3:\"rd\"}.get(datetime.today().day%10,\"th\")) + datetime.today().strftime(\", %Y\")\n",
    "print(today)\n",
    "\n",
    "llm = ChatOpenAI(model=\"gpt-4o-mini\")\n",
    "agent_executor = create_react_agent(llm, tools, state_modifier=f'Today is {today}')  # true as of today :)"
   ]
  },
  {
   "cell_type": "code",
   "execution_count": 9,
   "metadata": {
    "scrolled": true
   },
   "outputs": [],
   "source": [
    "response = agent_executor.invoke({\"messages\": [(\"user\", \"Who is the current Ravens QB?\")]})"
   ]
  },
  {
   "cell_type": "code",
   "execution_count": 10,
   "metadata": {},
   "outputs": [
    {
     "data": {
      "text/plain": [
       "'The current quarterback for the Baltimore Ravens is Lamar Jackson.'"
      ]
     },
     "execution_count": 10,
     "metadata": {},
     "output_type": "execute_result"
    }
   ],
   "source": [
    "response['messages'][-1].content"
   ]
  },
  {
   "cell_type": "code",
   "execution_count": 11,
   "metadata": {
    "scrolled": true
   },
   "outputs": [
    {
     "name": "stdout",
     "output_type": "stream",
     "text": [
      "{'agent': {'messages': [AIMessage(content='', additional_kwargs={'tool_calls': [{'id': 'call_yRoRwbN1ihVyXIhX6hO23Tsn', 'function': {'arguments': '{\"__arg1\":\"current Baltimore Ravens quarterback September 2025\"}', 'name': 'Search'}, 'type': 'function'}], 'refusal': None}, response_metadata={'token_usage': {'completion_tokens': 22, 'prompt_tokens': 84, 'total_tokens': 106, 'completion_tokens_details': {'accepted_prediction_tokens': 0, 'audio_tokens': 0, 'reasoning_tokens': 0, 'rejected_prediction_tokens': 0}, 'prompt_tokens_details': {'audio_tokens': 0, 'cached_tokens': 0}}, 'model_name': 'gpt-4o-mini-2024-07-18', 'system_fingerprint': 'fp_560af6e559', 'id': 'chatcmpl-CJKKquhwU6ueIvMnRTsioOJADd4bI', 'service_tier': 'default', 'finish_reason': 'tool_calls', 'logprobs': None}, id='run--16d1fb93-1a41-4f58-be86-904fae20ec69-0', tool_calls=[{'name': 'Search', 'args': {'__arg1': 'current Baltimore Ravens quarterback September 2025'}, 'id': 'call_yRoRwbN1ihVyXIhX6hO23Tsn', 'type': 'tool_call'}], usage_metadata={'input_tokens': 84, 'output_tokens': 22, 'total_tokens': 106, 'input_token_details': {'audio': 0, 'cache_read': 0}, 'output_token_details': {'audio': 0, 'reasoning': 0}})]}}\n",
      "{'tools': {'messages': [ToolMessage(content='Lamar Jackson - Baltimore Ravens Quarterback - ESPN.', name='Search', id='063454e5-1af5-4f02-94f8-a9ed85814024', tool_call_id='call_yRoRwbN1ihVyXIhX6hO23Tsn')]}}\n",
      "{'agent': {'messages': [AIMessage(content='The current quarterback for the Baltimore Ravens is Lamar Jackson.', additional_kwargs={'refusal': None}, response_metadata={'token_usage': {'completion_tokens': 12, 'prompt_tokens': 124, 'total_tokens': 136, 'completion_tokens_details': {'accepted_prediction_tokens': 0, 'audio_tokens': 0, 'reasoning_tokens': 0, 'rejected_prediction_tokens': 0}, 'prompt_tokens_details': {'audio_tokens': 0, 'cached_tokens': 0}}, 'model_name': 'gpt-4o-mini-2024-07-18', 'system_fingerprint': 'fp_560af6e559', 'id': 'chatcmpl-CJKKtXjrPH48Nr4MA3nPZ8IjNyrmj', 'service_tier': 'default', 'finish_reason': 'stop', 'logprobs': None}, id='run--ddc486e9-e87b-419b-ac9c-eaee473353cf-0', usage_metadata={'input_tokens': 124, 'output_tokens': 12, 'total_tokens': 136, 'input_token_details': {'audio': 0, 'cache_read': 0}, 'output_token_details': {'audio': 0, 'reasoning': 0}})]}}\n"
     ]
    }
   ],
   "source": [
    "# if I didn't put the date in, it might use a past year like 2023 as the query instead of\n",
    "#  {\"query\":\"current Baltimore Ravens quarterback 2025\"}\n",
    "for event in agent_executor.stream({\"messages\": [(\"user\", \"Who is the current Ravens QB?\")]}):\n",
    "    print(event)\n"
   ]
  },
  {
   "cell_type": "code",
   "execution_count": 12,
   "metadata": {},
   "outputs": [
    {
     "name": "stdout",
     "output_type": "stream",
     "text": [
      "The current quarterback for the Baltimore Ravens is Lamar Jackson. He is a two-time NFL MVP and is expected to sign a new contract that will make him the highest-paid player in the league.\n"
     ]
    }
   ],
   "source": [
    "print(event['agent']['messages'][-1].content)"
   ]
  },
  {
   "cell_type": "code",
   "execution_count": null,
   "metadata": {},
   "outputs": [],
   "source": []
  },
  {
   "cell_type": "code",
   "execution_count": 12,
   "metadata": {},
   "outputs": [
    {
     "data": {
      "image/png": "[encoded data removed]",
      "text/plain": [
       "<IPython.core.display.Image object>"
      ]
     },
     "metadata": {},
     "output_type": "display_data"
    }
   ],
   "source": [
    "# Compile the graph\n",
    "from IPython.display import Image, display\n",
    "\n",
    "display(Image(agent_executor.get_graph().draw_mermaid_png()))"
   ]
  },
  {
   "cell_type": "code",
   "execution_count": 13,
   "metadata": {},
   "outputs": [
    {
     "name": "stdout",
     "output_type": "stream",
     "text": [
      "Sinan Ozdemir is a prominent figure in the fields of data science and artificial intelligence. He is currently the founder and CTO of LoopGenius and serves as an advisor to various AI companies. Ozdemir has a background as a lecturer in Data Science at Johns Hopkins University and has authored multiple textbooks on topics related to data science and machine learning.\n",
      "\n",
      "He specializes in leveraging AI technology to solve complex problems and has expertise in natural language processing (NLP) and large language models (LLMs). Additionally, he is known for his contributions to publications like Forbes and is recognized as a fellow at Y Combinator. Ozdemir is also the founder of Aikylie, which has been acquired, and he remains actively involved in teaching and writing within his areas of expertise.\n"
     ]
    }
   ],
   "source": [
    "response = agent_executor.invoke({\"messages\": [(\"user\", \"Who is Sinan Ozdemir?\")]})\n",
    "\n",
    "print(response['messages'][-1].content)"
   ]
  },
  {
   "cell_type": "code",
   "execution_count": null,
   "metadata": {},
   "outputs": [],
   "source": []
  },
  {
   "cell_type": "markdown",
   "metadata": {},
   "source": [
    "# Turn our ReAct Agent into a Chat"
   ]
  },
  {
   "cell_type": "code",
   "execution_count": 13,
   "metadata": {},
   "outputs": [],
   "source": [
    "from langgraph.graph import MessagesState, END, StateGraph, START\n",
    "from langchain_core.messages import HumanMessage, AIMessage"
   ]
  },
  {
   "cell_type": "code",
   "execution_count": 16,
   "metadata": {},
   "outputs": [],
   "source": [
    "class ConvoState(MessagesState):\n",
    "    # MessagesState already has messages in it\n",
    "    end: bool\n",
    "\n",
    "def get_user_input(state):\n",
    "    user_msg = input(\"\\n🧑 You: \")\n",
    "    if user_msg.strip().lower() == \"exit\":\n",
    "        return {'end': True}\n",
    "    return {\"messages\": HumanMessage(content=user_msg)}\n",
    "\n",
    "def run_agent(state):\n",
    "    print(f'num of messages: {len(state[\"messages\"])}')\n",
    "    response = agent_executor.invoke({\"messages\": state[\"messages\"]})\n",
    "    print(f\"\\n🤖 Agent: {response['messages'][-1].content}\")\n",
    "    print(f'num of messages: {len(response['messages'])}')\n",
    "    return {\"messages\": response['messages'][len(state['messages']):]}\n",
    "\n",
    "graph_builder = StateGraph(ConvoState)\n",
    "graph_builder.add_node(\"get_user_input\", get_user_input)\n",
    "graph_builder.add_node(\"run_agent\", run_agent)\n",
    "\n",
    "graph_builder.set_entry_point(\"get_user_input\")\n",
    "graph_builder.add_conditional_edges(\n",
    "    \"get_user_input\", \n",
    "    lambda state: 'end' if state.get('end') else 'go',\n",
    "    {\n",
    "        'end': END,\n",
    "        'go': 'run_agent'\n",
    "    }\n",
    ")\n",
    "graph_builder.add_edge(\"run_agent\", \"get_user_input\")\n",
    "\n",
    "graph = graph_builder.compile()"
   ]
  },
  {
   "cell_type": "code",
   "execution_count": 18,
   "metadata": {},
   "outputs": [
    {
     "name": "stdout",
     "output_type": "stream",
     "text": [
      "💬 Start chatting with the agent! Type 'exit' to stop.\n"
     ]
    },
    {
     "name": "stdin",
     "output_type": "stream",
     "text": [
      "\n",
      "🧑 You:  hi\n"
     ]
    },
    {
     "name": "stdout",
     "output_type": "stream",
     "text": [
      "num of messages: 1\n",
      "\n",
      "🤖 Agent: Hello! How can I assist you today?\n",
      "num of messages: 2\n"
     ]
    },
    {
     "name": "stdin",
     "output_type": "stream",
     "text": [
      "\n",
      "🧑 You:  weather in sf please\n"
     ]
    },
    {
     "name": "stdout",
     "output_type": "stream",
     "text": [
      "num of messages: 3\n",
      "\n",
      "🤖 Agent: The current weather in San Francisco is partly cloudy with a temperature of 68°F. The humidity is at 67%, and there's no precipitation expected. There's a light wind blowing at 10 mph.\n",
      "num of messages: 6\n"
     ]
    },
    {
     "name": "stdin",
     "output_type": "stream",
     "text": [
      "\n",
      "🧑 You:  thanks\n"
     ]
    },
    {
     "name": "stdout",
     "output_type": "stream",
     "text": [
      "num of messages: 7\n",
      "\n",
      "🤖 Agent: You're welcome! If you have any more questions or need assistance with anything else, feel free to ask!\n",
      "num of messages: 8\n"
     ]
    },
    {
     "name": "stdin",
     "output_type": "stream",
     "text": [
      "\n",
      "🧑 You:  exit\n"
     ]
    }
   ],
   "source": [
    "\n",
    "print(\"💬 Start chatting with the agent! Type 'exit' to stop.\")\n",
    "state = graph.invoke({\"messages\": []})"
   ]
  },
  {
   "cell_type": "code",
   "execution_count": 22,
   "metadata": {},
   "outputs": [
    {
     "name": "stdout",
     "output_type": "stream",
     "text": [
      "<class 'langchain_core.messages.human.HumanMessage'> hi \n",
      "----\n",
      "<class 'langchain_core.messages.ai.AIMessage'> Hello! How can I assist you today? \n",
      "----\n",
      "<class 'langchain_core.messages.human.HumanMessage'> weather in sf please \n",
      "----\n",
      "<class 'langchain_core.messages.ai.AIMessage'>  \n",
      "Tool Call: ID(call_i56kZkkVF3KvKzi3479nqjzd), Name(Search), Args({\"__arg1\":\"current weather in San Francisco\"})\n",
      "----\n",
      "<class 'langchain_core.messages.tool.ToolMessage'> {'type': 'weather_result', 'temperature': '68', 'unit': 'Fahrenheit', 'precipitation': '0%', 'humidity': '67%', 'wind': '10 mph', 'location': 'San Francisco, CA', 'date': 'Friday 2:00 PM', 'weather': 'Partly cloudy'} Tool ID:call_i56kZkkVF3KvKzi3479nqjzd\n",
      "----\n",
      "<class 'langchain_core.messages.ai.AIMessage'> The current weather in San Francisco is partly cloudy with a temperature of 68°F. The humidity is at 67%, and there's no precipitation expected. There's a light wind blowing at 10 mph. \n",
      "----\n",
      "<class 'langchain_core.messages.human.HumanMessage'> thanks \n",
      "----\n",
      "<class 'langchain_core.messages.ai.AIMessage'> You're welcome! If you have any more questions or need assistance with anything else, feel free to ask! \n",
      "----\n"
     ]
    }
   ],
   "source": [
    "for message in state['messages']:\n",
    "    print(type(message), message.content, 'Tool ID:' + message.tool_call_id if hasattr(message, 'tool_call_id') else '')\n",
    "    if message.additional_kwargs.get('tool_calls'):\n",
    "        tool_calls = message.additional_kwargs.get('tool_calls')\n",
    "        for tool_call in tool_calls:\n",
    "            print(f'Tool Call: ID({tool_call[\"id\"]}), Name({tool_call[\"function\"][\"name\"]}), Args({tool_call[\"function\"][\"arguments\"]})')\n",
    "    elif hasattr(message, 'tool_calls'):\n",
    "        tool_calls = message.tool_calls\n",
    "        for tool_call in tool_calls:\n",
    "            print(f'Tool Call: ID({tool_call[\"id\"]}), Name({tool_call[\"name\"]}), Args({tool_call[\"args\"]})')\n",
    "    print('----')"
   ]
  },
  {
   "cell_type": "code",
   "execution_count": 86,
   "metadata": {},
   "outputs": [
    {
     "data": {
      "image/png": "[encoded data removed]",
      "text/plain": [
       "<IPython.core.display.Image object>"
      ]
     },
     "metadata": {},
     "output_type": "display_data"
    }
   ],
   "source": [
    "# Compile the graph\n",
    "from IPython.display import Image, display\n",
    "\n",
    "display(Image(graph.get_graph().draw_mermaid_png()))"
   ]
  },
  {
   "cell_type": "code",
   "execution_count": null,
   "metadata": {},
   "outputs": [],
   "source": []
  }
 ],
 "metadata": {
  "colab": {
   "provenance": []
  },
  "kernelspec": {
   "display_name": "Python (myenv)",
   "language": "python",
   "name": "myenv"
  },
  "language_info": {
   "codemirror_mode": {
    "name": "ipython",
    "version": 3
   },
   "file_extension": ".py",
   "mimetype": "text/x-python",
   "name": "python",
   "nbconvert_exporter": "python",
   "pygments_lexer": "ipython3",
   "version": "3.13.3"
  }
 },
 "nbformat": 4,
 "nbformat_minor": 4
}
