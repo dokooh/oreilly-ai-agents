{
 "cells": [
  {
   "cell_type": "markdown",
   "metadata": {},
   "source": [
    "# Setting up a basic ReAct Agent in LangGraph"
   ]
  },
  {
   "cell_type": "code",
   "execution_count": 142,
   "metadata": {},
   "outputs": [],
   "source": [
    "import os\n",
    "\n",
    "os.environ[\"OPENAI_API_KEY\"] = 'sk-***'"
   ]
  },
  {
   "cell_type": "code",
   "execution_count": 4,
   "metadata": {
    "colab": {
     "base_uri": "https://localhost:8080/"
    },
    "id": "-47NGgZAvFz-",
    "outputId": "72f0e0c9-0fa5-45b2-fd88-f3c9f710afa5",
    "scrolled": true
   },
   "outputs": [],
   "source": [
    "from langchain_community.tools import DuckDuckGoSearchRun  # Initialize the tool\n",
    "search_ddg_tool = DuckDuckGoSearchRun()\n",
    "\n",
    "tools = [search_ddg_tool]"
   ]
  },
  {
   "cell_type": "code",
   "execution_count": 10,
   "metadata": {},
   "outputs": [
    {
     "name": "stderr",
     "output_type": "stream",
     "text": [
      "/Users/sinanozdemir/Library/Python/3.9/lib/python/site-packages/langchain_community/utilities/duckduckgo_search.py:64: UserWarning: backend='api' is deprecated, using backend='auto'\n",
      "  ddgs_gen = ddgs.text(\n"
     ]
    },
    {
     "data": {
      "text/plain": [
       "'Sinan Ozdemir is a data scientist, NLP expert, lecturer, mathematician, and accomplished author. He is currently the founder and CTO of LoopGenius, transforming the way entrepreneurs and startups market their products and services. Simultaneously, he is providing advisory services in AI and LLMs to VCs including Tola Capital. ... Sinan Ozdemir is a mathematician, data scientist, NLP expert, lecturer, and accomplished author. He is currently applying my extensive knowledge and experience in AI and Large Language Models (LLMs) as the founder and CTO of LoopGenius, transforming the way entrepreneurs and startups market their products and services. Sinan Ozdemir is a mathematician, data scientist, NLP expert, lecturer, and accomplished author. He is currently applying my extensive knowledge and experience in AI and Large Language Models (LLMs) as the founder and CTO of LoopGenius, transforming the way entrepreneurs and startups market their products and services. Instructor Sinan Ozdemir helps you develop a practical, comprehensive, and functional understanding of transformer architectures and how they are used to create modern NLP pipelines. Along the way ... Sinan Ozdemir is currently the founder and CTO of LoopGenius and an advisor to several AI companies. Sinan is a former lecturer of Data Science at Johns Hopkins University and the author of multiple textbooks on data science and machine learning. Additionally, he is the founder of the recently acquired Kylie.ai, an enterprise-grade ...'"
      ]
     },
     "execution_count": 10,
     "metadata": {},
     "output_type": "execute_result"
    }
   ],
   "source": [
    "search_ddg_tool.run('sinan ozdemir')"
   ]
  },
  {
   "cell_type": "code",
   "execution_count": 37,
   "metadata": {
    "colab": {
     "base_uri": "https://localhost:8080/"
    },
    "id": "YxTG7Kk2xZhm",
    "outputId": "e08810b4-d44d-4fb6-d3e7-6dad5c406ad8",
    "scrolled": true
   },
   "outputs": [],
   "source": [
    "from langchain_openai import ChatOpenAI\n",
    "\n",
    "from langgraph.prebuilt import create_react_agent\n",
    "\n",
    "# Choose the LLM that will drive the agent\n",
    "llm = ChatOpenAI(model=\"gpt-4o-mini\")\n",
    "agent_executor = create_react_agent(llm, tools, state_modifier='Today is April 9th, 2025')  # true as of 4/9/2025 ;)"
   ]
  },
  {
   "cell_type": "code",
   "execution_count": 28,
   "metadata": {
    "scrolled": true
   },
   "outputs": [
    {
     "name": "stderr",
     "output_type": "stream",
     "text": [
      "/Users/sinanozdemir/Library/Python/3.9/lib/python/site-packages/langchain_community/utilities/duckduckgo_search.py:64: UserWarning: backend='api' is deprecated, using backend='auto'\n",
      "  ddgs_gen = ddgs.text(\n"
     ]
    }
   ],
   "source": [
    "response = agent_executor.invoke({\"messages\": [(\"user\", \"Who is the current Ravens QB?\")]})"
   ]
  },
  {
   "cell_type": "code",
   "execution_count": 29,
   "metadata": {},
   "outputs": [
    {
     "data": {
      "text/plain": [
       "'The current quarterback for the Baltimore Ravens is Lamar Jackson. He has been with the team since being drafted in 2018 and is a two-time NFL Most Valuable Player (MVP).'"
      ]
     },
     "execution_count": 29,
     "metadata": {},
     "output_type": "execute_result"
    }
   ],
   "source": [
    "response['messages'][-1].content"
   ]
  },
  {
   "cell_type": "code",
   "execution_count": 38,
   "metadata": {
    "scrolled": true
   },
   "outputs": [
    {
     "name": "stdout",
     "output_type": "stream",
     "text": [
      "{'agent': {'messages': [AIMessage(content='', additional_kwargs={'tool_calls': [{'id': 'call_MW4BOWSXcsIC9dtIu2xVzTgU', 'function': {'arguments': '{\"query\":\"current Baltimore Ravens quarterback 2025\"}', 'name': 'duckduckgo_search'}, 'type': 'function'}], 'refusal': None}, response_metadata={'token_usage': {'completion_tokens': 24, 'prompt_tokens': 91, 'total_tokens': 115, 'completion_tokens_details': {'accepted_prediction_tokens': 0, 'audio_tokens': 0, 'reasoning_tokens': 0, 'rejected_prediction_tokens': 0}, 'prompt_tokens_details': {'audio_tokens': 0, 'cached_tokens': 0}}, 'model_name': 'gpt-4o-mini-2024-07-18', 'system_fingerprint': 'fp_86d0290411', 'finish_reason': 'tool_calls', 'logprobs': None}, id='run-78b595f7-7e97-4ab9-9f14-740702d66c19-0', tool_calls=[{'name': 'duckduckgo_search', 'args': {'query': 'current Baltimore Ravens quarterback 2025'}, 'id': 'call_MW4BOWSXcsIC9dtIu2xVzTgU', 'type': 'tool_call'}], usage_metadata={'input_tokens': 91, 'output_tokens': 24, 'total_tokens': 115, 'input_token_details': {'audio': 0, 'cache_read': 0}, 'output_token_details': {'audio': 0, 'reasoning': 0}})]}}\n"
     ]
    },
    {
     "name": "stderr",
     "output_type": "stream",
     "text": [
      "/Users/sinanozdemir/Library/Python/3.9/lib/python/site-packages/langchain_community/utilities/duckduckgo_search.py:64: UserWarning: backend='api' is deprecated, using backend='auto'\n",
      "  ddgs_gen = ddgs.text(\n"
     ]
    },
    {
     "name": "stdout",
     "output_type": "stream",
     "text": [
      "{'tools': {'messages': [ToolMessage(content=\"The Ravens carry two quarterbacks on their active roster. Rookie quarterback Devin Leary is a member of Baltimore's practice squad. Leary was a sixth-round selection by the Ravens in the 2024 NFL ... The most respected source for NFL Draft info among NFL Fans, Media, and Scouts, plus accurate, up to date NFL Depth Charts, Practice Squads and Rosters. Here's how the 2025 depth chart shapes up at this point, with more free agency additions still to come and 11 draft picks in the Ravens' possession. Quarterback Starter: Lamar Jackson Find out the list of the 32 NFL quarterbacks currently in 2025. The NFL starting quarterbacks are one of the most important players in every team and you know what it means to have the best in your team. List of the 32 NFL quarterbacks current in alphabetical order . A. Allen Brandon (San Francisco 49ers) ... (Baltimore Ravens) Johnson Josh ... The Baltimore Ravens brought in former Dallas Cowboy Cooper Rush as a backup QB, and re-signed OL Ben Cleveland. ... Current Cap Situation; 2024 Salary Cap; 2025 Salary Cap; Player Contract Details; ... — Baltimore Ravens (@Ravens) March 16, 2025. Ravens, QB Cooper Rush agree to terms on a 2-year deal worth up to $12.2M. (via @rapsheet, ...\", name='duckduckgo_search', id='b2218d18-3826-4bc7-9e73-2c7a64785b9b', tool_call_id='call_MW4BOWSXcsIC9dtIu2xVzTgU')]}}\n",
      "{'agent': {'messages': [AIMessage(content='As of now, the starting quarterback for the Baltimore Ravens is Lamar Jackson. The team also has Cooper Rush as a backup quarterback.', additional_kwargs={'refusal': None}, response_metadata={'token_usage': {'completion_tokens': 28, 'prompt_tokens': 404, 'total_tokens': 432, 'completion_tokens_details': {'accepted_prediction_tokens': 0, 'audio_tokens': 0, 'reasoning_tokens': 0, 'rejected_prediction_tokens': 0}, 'prompt_tokens_details': {'audio_tokens': 0, 'cached_tokens': 0}}, 'model_name': 'gpt-4o-mini-2024-07-18', 'system_fingerprint': 'fp_86d0290411', 'finish_reason': 'stop', 'logprobs': None}, id='run-17810970-dfea-4eb7-b3fd-cfb77fff1af3-0', usage_metadata={'input_tokens': 404, 'output_tokens': 28, 'total_tokens': 432, 'input_token_details': {'audio': 0, 'cache_read': 0}, 'output_token_details': {'audio': 0, 'reasoning': 0}})]}}\n"
     ]
    }
   ],
   "source": [
    "# if I didn't put the date in, it would use a past year like 2023 as thr query instead of\n",
    "#  {\"query\":\"current Baltimore Ravens quarterback 2025\"}\n",
    "for event in agent_executor.stream({\"messages\": [(\"user\", \"Who is the current Ravens QB?\")]}):\n",
    "    print(event)\n"
   ]
  },
  {
   "cell_type": "code",
   "execution_count": 40,
   "metadata": {},
   "outputs": [
    {
     "name": "stdout",
     "output_type": "stream",
     "text": [
      "As of now, the starting quarterback for the Baltimore Ravens is Lamar Jackson. The team also has Cooper Rush as a backup quarterback.\n"
     ]
    }
   ],
   "source": [
    "print(event['agent']['messages'][-1].content)"
   ]
  },
  {
   "cell_type": "code",
   "execution_count": null,
   "metadata": {},
   "outputs": [],
   "source": []
  },
  {
   "cell_type": "code",
   "execution_count": 25,
   "metadata": {},
   "outputs": [
    {
     "data": {
      "image/png": "[encoded data removed]",
      "text/plain": [
       "<IPython.core.display.Image object>"
      ]
     },
     "metadata": {},
     "output_type": "display_data"
    }
   ],
   "source": [
    "# Compile the graph\n",
    "from IPython.display import Image, display\n",
    "\n",
    "display(Image(agent_executor.get_graph().draw_mermaid_png()))"
   ]
  },
  {
   "cell_type": "code",
   "execution_count": 27,
   "metadata": {},
   "outputs": [
    {
     "name": "stderr",
     "output_type": "stream",
     "text": [
      "/Users/sinanozdemir/Library/Python/3.9/lib/python/site-packages/langchain_community/utilities/duckduckgo_search.py:64: UserWarning: backend='api' is deprecated, using backend='auto'\n",
      "  ddgs_gen = ddgs.text(\n"
     ]
    },
    {
     "name": "stdout",
     "output_type": "stream",
     "text": [
      "Sinan Ozdemir is a prominent data scientist, NLP (Natural Language Processing) expert, lecturer, and author. He currently serves as the founder and CTO of LoopGenius, where he focuses on transforming marketing strategies for entrepreneurs and startups. In addition to his role at LoopGenius, he provides advisory services in AI and Large Language Models (LLMs) to venture capital firms, including Tola Capital.\n",
      "\n",
      "Ozdemir has previously lectured on Data Science at Johns Hopkins University and has authored several textbooks on data science and machine learning. He is recognized for his extensive knowledge and experience in AI and is actively involved in the development of modern NLP pipelines and transformer architectures.\n"
     ]
    }
   ],
   "source": [
    "response = agent_executor.invoke({\"messages\": [(\"user\", \"Who is Sinan Ozdemir?\")]})\n",
    "\n",
    "print(response['messages'][-1].content)"
   ]
  },
  {
   "cell_type": "code",
   "execution_count": null,
   "metadata": {},
   "outputs": [],
   "source": []
  },
  {
   "cell_type": "markdown",
   "metadata": {},
   "source": [
    "# Turn our ReAct Agent into a Chat"
   ]
  },
  {
   "cell_type": "code",
   "execution_count": 62,
   "metadata": {},
   "outputs": [],
   "source": [
    "from langgraph.graph import MessagesState\n",
    "from langchain_core.messages import HumanMessage, AIMessage"
   ]
  },
  {
   "cell_type": "code",
   "execution_count": null,
   "metadata": {},
   "outputs": [],
   "source": [
    "class ConvoState(MessagesState):\n",
    "    # MessagesState already has messages in it\n",
    "    end: bool\n",
    "\n",
    "def get_user_input(state):\n",
    "    user_msg = input(\"\\n🧑 You: \")\n",
    "    if user_msg.strip().lower() == \"exit\":\n",
    "        return {'end': True}\n",
    "    return {\"messages\": HumanMessage(content=user_msg)}\n",
    "\n",
    "def run_agent(state):\n",
    "    response = agent_executor.invoke({\"messages\": state[\"messages\"]})\n",
    "    print(f\"\\n🤖 Agent: {response['messages'][-1].content}\")\n",
    "    return {\"messages\": AIMessage(content=response['messages'][-1].content)}\n",
    "\n",
    "graph_builder = StateGraph(ConvoState)\n",
    "graph_builder.add_node(\"get_user_input\", get_user_input)\n",
    "graph_builder.add_node(\"run_agent\", run_agent)\n",
    "\n",
    "graph_builder.set_entry_point(\"get_user_input\")\n",
    "graph_builder.add_conditional_edges(\n",
    "    \"get_user_input\", \n",
    "    lambda state: 'end' if state.get('end') else 'go',\n",
    "    {\n",
    "        'end': END,\n",
    "        'go': 'run_agent'\n",
    "    }\n",
    ")\n",
    "graph_builder.add_edge(\"run_agent\", \"get_user_input\")\n",
    "\n",
    "graph = graph_builder.compile()"
   ]
  },
  {
   "cell_type": "code",
   "execution_count": 85,
   "metadata": {},
   "outputs": [
    {
     "name": "stdout",
     "output_type": "stream",
     "text": [
      "💬 Start chatting with the agent! Type 'exit' to stop.\n"
     ]
    },
    {
     "name": "stdin",
     "output_type": "stream",
     "text": [
      "\n",
      "🧑 You:  hi I'm Sinan\n"
     ]
    },
    {
     "name": "stdout",
     "output_type": "stream",
     "text": [
      "\n",
      "🤖 Agent: Hi Sinan! How can I assist you today?\n"
     ]
    },
    {
     "name": "stdin",
     "output_type": "stream",
     "text": [
      "\n",
      "🧑 You:  what's my name\n"
     ]
    },
    {
     "name": "stdout",
     "output_type": "stream",
     "text": [
      "\n",
      "🤖 Agent: Your name is Sinan. How can I help you today?\n"
     ]
    },
    {
     "name": "stdin",
     "output_type": "stream",
     "text": [
      "\n",
      "🧑 You:  what's the weather in SF today?\n"
     ]
    },
    {
     "name": "stderr",
     "output_type": "stream",
     "text": [
      "/Users/sinanozdemir/Library/Python/3.9/lib/python/site-packages/langchain_community/utilities/duckduckgo_search.py:64: UserWarning: backend='api' is deprecated, using backend='auto'\n",
      "  ddgs_gen = ddgs.text(\n"
     ]
    },
    {
     "name": "stdout",
     "output_type": "stream",
     "text": [
      "\n",
      "🤖 Agent: Today in San Francisco, the weather is currently around 50°F (10°C) with a humidity level of 79%. The highs are expected to range from the low 60s in areas like Pacifica and Half Moon Bay to mid-70s in places like Redwood City. Overall, it's a cool day in the city. If you need more specific details or forecasts, just let me know!\n"
     ]
    },
    {
     "name": "stdin",
     "output_type": "stream",
     "text": [
      "\n",
      "🧑 You:  what is today?\n"
     ]
    },
    {
     "name": "stdout",
     "output_type": "stream",
     "text": [
      "\n",
      "🤖 Agent: Today is April 9th, 2025. How else can I assist you?\n"
     ]
    },
    {
     "name": "stdin",
     "output_type": "stream",
     "text": [
      "\n",
      "🧑 You:  exit\n"
     ]
    },
    {
     "data": {
      "text/plain": [
       "{'messages': [HumanMessage(content=\"hi I'm Sinan\", additional_kwargs={}, response_metadata={}, id='0f540d97-b854-4fcf-b2aa-0be187289f28'),\n",
       "  AIMessage(content='Hi Sinan! How can I assist you today?', additional_kwargs={}, response_metadata={}, id='ced2fa62-6281-40e2-aa49-28f025fb7cae'),\n",
       "  HumanMessage(content=\"what's my name\", additional_kwargs={}, response_metadata={}, id='d7e77360-1014-4ee8-9213-4424021c0be4'),\n",
       "  AIMessage(content='Your name is Sinan. How can I help you today?', additional_kwargs={}, response_metadata={}, id='4fb8d779-00e3-42c3-a4a6-ca8f2c945f56'),\n",
       "  HumanMessage(content=\"what's the weather in SF today?\", additional_kwargs={}, response_metadata={}, id='d1e3b8d2-1900-43a2-b628-b8d7b61d7779'),\n",
       "  AIMessage(content=\"Today in San Francisco, the weather is currently around 50°F (10°C) with a humidity level of 79%. The highs are expected to range from the low 60s in areas like Pacifica and Half Moon Bay to mid-70s in places like Redwood City. Overall, it's a cool day in the city. If you need more specific details or forecasts, just let me know!\", additional_kwargs={}, response_metadata={}, id='4d48c196-975e-4d58-bbd9-eb67c8126816'),\n",
       "  HumanMessage(content='what is today?', additional_kwargs={}, response_metadata={}, id='b0b18795-af53-475b-8222-852abf20c597'),\n",
       "  AIMessage(content='Today is April 9th, 2025. How else can I assist you?', additional_kwargs={}, response_metadata={}, id='1a1cb909-1a4b-4d61-8676-41db20059518')],\n",
       " 'end': True}"
      ]
     },
     "execution_count": 85,
     "metadata": {},
     "output_type": "execute_result"
    }
   ],
   "source": [
    "\n",
    "print(\"💬 Start chatting with the agent! Type 'exit' to stop.\")\n",
    "graph.invoke({\"messages\": []})"
   ]
  },
  {
   "cell_type": "code",
   "execution_count": 86,
   "metadata": {},
   "outputs": [
    {
     "data": {
      "image/png": "[encoded data removed]",
      "text/plain": [
       "<IPython.core.display.Image object>"
      ]
     },
     "metadata": {},
     "output_type": "display_data"
    }
   ],
   "source": [
    "# Compile the graph\n",
    "from IPython.display import Image, display\n",
    "\n",
    "display(Image(graph.get_graph().draw_mermaid_png()))"
   ]
  },
  {
   "cell_type": "code",
   "execution_count": null,
   "metadata": {},
   "outputs": [],
   "source": []
  }
 ],
 "metadata": {
  "colab": {
   "provenance": []
  },
  "kernelspec": {
   "display_name": "Python (/usr/bin/python3)",
   "language": "python",
   "name": "my_python3"
  },
  "language_info": {
   "codemirror_mode": {
    "name": "ipython",
    "version": 3
   },
   "file_extension": ".py",
   "mimetype": "text/x-python",
   "name": "python",
   "nbconvert_exporter": "python",
   "pygments_lexer": "ipython3",
   "version": "3.9.6"
  }
 },
 "nbformat": 4,
 "nbformat_minor": 4
}
